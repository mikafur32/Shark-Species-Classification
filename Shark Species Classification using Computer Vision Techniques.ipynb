{
 "cells": [
  {
   "cell_type": "markdown",
   "id": "31f27eea",
   "metadata": {},
   "source": [
    "# Shark Species Classification using Computer Vision Techniques"
   ]
  },
  {
   "cell_type": "markdown",
   "id": "40a30980",
   "metadata": {},
   "source": [
    "## Idea Proposal"
   ]
  },
  {
   "cell_type": "markdown",
   "id": "f8414978",
   "metadata": {},
   "source": [
    "We plan on using a CNN, ensemble, and unsupervised classification learning techniques to learn and predict the species of shark. \n",
    "Our data set will be obtained from the Environmental Science department in conjunction with Professor Jeffery Agnew. The data set inculdes a couple hundred labeled images of shark teeth. The scientific community currently relies on individuals using outdated and subjective morphometric measurements to classify shark teeth as well as intraspecies and positional variations. It is because of this that classification remains a difficult problem that we hope to shine a light on. "
   ]
  },
  {
   "cell_type": "markdown",
   "id": "91789419",
   "metadata": {},
   "source": [
    "## A Deeper Dive into Shark Teeth  "
   ]
  },
  {
   "cell_type": "markdown",
   "id": "cfb2ad35",
   "metadata": {},
   "source": [
    "Shark teeth are some of the most abundant fossils found in the fossil record with sharks losing up to 40,000 teeth per year by modern estimates. It is because of this that shark lineages are some of the best documented lineages in the fossil record. "
   ]
  }
 ],
 "metadata": {
  "kernelspec": {
   "display_name": "Python 3 (ipykernel)",
   "language": "python",
   "name": "python3"
  },
  "language_info": {
   "codemirror_mode": {
    "name": "ipython",
    "version": 3
   },
   "file_extension": ".py",
   "mimetype": "text/x-python",
   "name": "python",
   "nbconvert_exporter": "python",
   "pygments_lexer": "ipython3",
   "version": "3.9.13"
  }
 },
 "nbformat": 4,
 "nbformat_minor": 5
}
